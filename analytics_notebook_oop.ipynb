{
 "cells": [
  {
   "cell_type": "markdown",
   "metadata": {},
   "source": [
    "# SMU BOSS Bid Price Analytics"
   ]
  },
  {
   "cell_type": "markdown",
   "metadata": {},
   "source": [
    "### Import necessary libraries"
   ]
  },
  {
   "cell_type": "code",
   "execution_count": 1,
   "metadata": {},
   "outputs": [],
   "source": [
    "import pandas as pd\n",
    "from adjustText import adjust_text\n",
    "import matplotlib.pyplot as plt\n",
    "import numpy as np\n",
    "from sklearn.linear_model import LinearRegression\n",
    "from sklearn.preprocessing import LabelEncoder\n",
    "import warnings\n",
    "from sklearn.exceptions import DataConversionWarning\n",
    "\n",
    "from analytics import Analytics"
   ]
  },
  {
   "cell_type": "markdown",
   "metadata": {},
   "source": [
    "### Data Preprocessing"
   ]
  },
  {
   "cell_type": "code",
   "execution_count": 2,
   "metadata": {},
   "outputs": [],
   "source": [
    "data_frame = pd.read_excel(\"data/merged_file.xls\")\n",
    "analytics = Analytics(data_frame)"
   ]
  },
  {
   "cell_type": "markdown",
   "metadata": {},
   "source": [
    "## Specify Course Code"
   ]
  },
  {
   "cell_type": "code",
   "execution_count": 3,
   "metadata": {},
   "outputs": [],
   "source": [
    "course_code = \"COR-STAT1202\""
   ]
  },
  {
   "cell_type": "markdown",
   "metadata": {},
   "source": [
    "### Explore Bid Price for the specified course code"
   ]
  },
  {
   "cell_type": "code",
   "execution_count": 4,
   "metadata": {},
   "outputs": [
    {
     "name": "stdout",
     "output_type": "stream",
     "text": [
      "The min, max, median and mean values for ALL of COR-STAT1202's median bid prices are (10.0, 100.0, 30.0, 31.62) respectively.\n"
     ]
    }
   ],
   "source": [
    "# min_median_value = course_data[\"Median Bid\"].min()\n",
    "# max_median_value = course_data[\"Median Bid\"].max()\n",
    "# median_median_value = round(course_data[\"Median Bid\"].median(), 2)\n",
    "# mean_median_value = round(course_data[\"Median Bid\"].mean(), 2)\n",
    "# course_code = \"COR-STAT1202\"\n",
    "[min_median_value, max_median_value, median_median_value, mean_median_value] = analytics.get_min_max_median_mean_median_bid_values_by_course_code_and_instructor(course_code)\n",
    "\n",
    "print(f\"The min, max, median and mean values for ALL of {course_code}'s median bid prices are {min_median_value, max_median_value, median_median_value, mean_median_value} respectively.\")"
   ]
  },
  {
   "cell_type": "markdown",
   "metadata": {},
   "source": [
    "### Which Instructors teach the specified course?"
   ]
  },
  {
   "cell_type": "code",
   "execution_count": 5,
   "metadata": {},
   "outputs": [
    {
     "name": "stdout",
     "output_type": "stream",
     "text": [
      "Instructors that teach COR-STAT1202: ['WU ZHENGXIAO' 'KWONG KOON SHING' 'ROSIE CHING' 'DANIEL SOH'\n",
      " 'ZHANG YAJIE' 'RAYMOND TEO' 'LIU SHEW FAN' 'YEO KENG LEONG'\n",
      " 'GAN CHUI GOH' 'GOH JING RONG' 'DEBANJALI ROY' 'DENIS LEUNG']\n"
     ]
    }
   ],
   "source": [
    "unique_instructors = analytics.get_instructors_by_course_code(course_code)\n",
    "print(f\"Instructors that teach {course_code}: {unique_instructors}\")"
   ]
  },
  {
   "cell_type": "markdown",
   "metadata": {},
   "source": [
    "## Filter dataframe by Instructor"
   ]
  },
  {
   "cell_type": "code",
   "execution_count": 6,
   "metadata": {},
   "outputs": [
    {
     "name": "stdout",
     "output_type": "stream",
     "text": [
      "Instructor Course Data Shape: (65, 16)\n"
     ]
    },
    {
     "data": {
      "text/html": [
       "<div>\n",
       "<style scoped>\n",
       "    .dataframe tbody tr th:only-of-type {\n",
       "        vertical-align: middle;\n",
       "    }\n",
       "\n",
       "    .dataframe tbody tr th {\n",
       "        vertical-align: top;\n",
       "    }\n",
       "\n",
       "    .dataframe thead th {\n",
       "        text-align: right;\n",
       "    }\n",
       "</style>\n",
       "<table border=\"1\" class=\"dataframe\">\n",
       "  <thead>\n",
       "    <tr style=\"text-align: right;\">\n",
       "      <th></th>\n",
       "      <th>Term</th>\n",
       "      <th>Session</th>\n",
       "      <th>Bidding Window</th>\n",
       "      <th>Course Code</th>\n",
       "      <th>Description</th>\n",
       "      <th>Section</th>\n",
       "      <th>Vacancy</th>\n",
       "      <th>Opening Vacancy</th>\n",
       "      <th>Before Process Vacancy</th>\n",
       "      <th>After Process Vacancy</th>\n",
       "      <th>Enrolled Students</th>\n",
       "      <th>Median Bid</th>\n",
       "      <th>Min Bid</th>\n",
       "      <th>Instructor</th>\n",
       "      <th>School/Department</th>\n",
       "      <th>round_successful_bids</th>\n",
       "    </tr>\n",
       "  </thead>\n",
       "  <tbody>\n",
       "    <tr>\n",
       "      <th>7594</th>\n",
       "      <td>2022-23 Term 1</td>\n",
       "      <td>Regular Academic Session</td>\n",
       "      <td>Round 1B Window 1</td>\n",
       "      <td>COR-STAT1202</td>\n",
       "      <td>Introductory Statistics</td>\n",
       "      <td>G22</td>\n",
       "      <td>45.0</td>\n",
       "      <td>15.0</td>\n",
       "      <td>6.0</td>\n",
       "      <td>5.0</td>\n",
       "      <td>10.0</td>\n",
       "      <td>15.07</td>\n",
       "      <td>15.07</td>\n",
       "      <td>YEO KENG LEONG</td>\n",
       "      <td>SOE</td>\n",
       "      <td>1.0</td>\n",
       "    </tr>\n",
       "    <tr>\n",
       "      <th>9720</th>\n",
       "      <td>2022-23 Term 1</td>\n",
       "      <td>Regular Academic Session</td>\n",
       "      <td>Round 1A Window 1</td>\n",
       "      <td>COR-STAT1202</td>\n",
       "      <td>Introductory Statistics</td>\n",
       "      <td>G22</td>\n",
       "      <td>45.0</td>\n",
       "      <td>15.0</td>\n",
       "      <td>6.0</td>\n",
       "      <td>5.0</td>\n",
       "      <td>10.0</td>\n",
       "      <td>24.92</td>\n",
       "      <td>24.92</td>\n",
       "      <td>YEO KENG LEONG</td>\n",
       "      <td>SOE</td>\n",
       "      <td>1.0</td>\n",
       "    </tr>\n",
       "    <tr>\n",
       "      <th>10797</th>\n",
       "      <td>2022-23 Term 1</td>\n",
       "      <td>Regular Academic Session</td>\n",
       "      <td>Round 1 Window 2</td>\n",
       "      <td>COR-STAT1202</td>\n",
       "      <td>Introductory Statistics</td>\n",
       "      <td>G22</td>\n",
       "      <td>45.0</td>\n",
       "      <td>15.0</td>\n",
       "      <td>8.0</td>\n",
       "      <td>5.0</td>\n",
       "      <td>10.0</td>\n",
       "      <td>31.89</td>\n",
       "      <td>23.00</td>\n",
       "      <td>YEO KENG LEONG</td>\n",
       "      <td>SOE</td>\n",
       "      <td>3.0</td>\n",
       "    </tr>\n",
       "    <tr>\n",
       "      <th>11874</th>\n",
       "      <td>2022-23 Term 1</td>\n",
       "      <td>Regular Academic Session</td>\n",
       "      <td>Round 1 Window 1</td>\n",
       "      <td>COR-STAT1202</td>\n",
       "      <td>Introductory Statistics</td>\n",
       "      <td>G22</td>\n",
       "      <td>45.0</td>\n",
       "      <td>10.0</td>\n",
       "      <td>10.0</td>\n",
       "      <td>3.0</td>\n",
       "      <td>7.0</td>\n",
       "      <td>28.88</td>\n",
       "      <td>18.56</td>\n",
       "      <td>YEO KENG LEONG</td>\n",
       "      <td>SOE</td>\n",
       "      <td>7.0</td>\n",
       "    </tr>\n",
       "    <tr>\n",
       "      <th>15051</th>\n",
       "      <td>2022-23 Term 1</td>\n",
       "      <td>Regular Academic Session</td>\n",
       "      <td>Incoming Freshmen Rnd 1 Win 2</td>\n",
       "      <td>COR-STAT1202</td>\n",
       "      <td>Introductory Statistics</td>\n",
       "      <td>G22</td>\n",
       "      <td>45.0</td>\n",
       "      <td>45.0</td>\n",
       "      <td>18.0</td>\n",
       "      <td>0.0</td>\n",
       "      <td>45.0</td>\n",
       "      <td>24.11</td>\n",
       "      <td>20.00</td>\n",
       "      <td>YEO KENG LEONG</td>\n",
       "      <td>SOE</td>\n",
       "      <td>18.0</td>\n",
       "    </tr>\n",
       "  </tbody>\n",
       "</table>\n",
       "</div>"
      ],
      "text/plain": [
       "                 Term                   Session  \\\n",
       "7594   2022-23 Term 1  Regular Academic Session   \n",
       "9720   2022-23 Term 1  Regular Academic Session   \n",
       "10797  2022-23 Term 1  Regular Academic Session   \n",
       "11874  2022-23 Term 1  Regular Academic Session   \n",
       "15051  2022-23 Term 1  Regular Academic Session   \n",
       "\n",
       "                      Bidding Window   Course Code              Description  \\\n",
       "7594               Round 1B Window 1  COR-STAT1202  Introductory Statistics   \n",
       "9720               Round 1A Window 1  COR-STAT1202  Introductory Statistics   \n",
       "10797               Round 1 Window 2  COR-STAT1202  Introductory Statistics   \n",
       "11874               Round 1 Window 1  COR-STAT1202  Introductory Statistics   \n",
       "15051  Incoming Freshmen Rnd 1 Win 2  COR-STAT1202  Introductory Statistics   \n",
       "\n",
       "      Section  Vacancy  Opening Vacancy  Before Process Vacancy  \\\n",
       "7594      G22     45.0             15.0                     6.0   \n",
       "9720      G22     45.0             15.0                     6.0   \n",
       "10797     G22     45.0             15.0                     8.0   \n",
       "11874     G22     45.0             10.0                    10.0   \n",
       "15051     G22     45.0             45.0                    18.0   \n",
       "\n",
       "       After Process Vacancy  Enrolled Students  Median Bid  Min Bid  \\\n",
       "7594                     5.0               10.0       15.07    15.07   \n",
       "9720                     5.0               10.0       24.92    24.92   \n",
       "10797                    5.0               10.0       31.89    23.00   \n",
       "11874                    3.0                7.0       28.88    18.56   \n",
       "15051                    0.0               45.0       24.11    20.00   \n",
       "\n",
       "           Instructor School/Department  round_successful_bids  \n",
       "7594   YEO KENG LEONG               SOE                    1.0  \n",
       "9720   YEO KENG LEONG               SOE                    1.0  \n",
       "10797  YEO KENG LEONG               SOE                    3.0  \n",
       "11874  YEO KENG LEONG               SOE                    7.0  \n",
       "15051  YEO KENG LEONG               SOE                   18.0  "
      ]
     },
     "execution_count": 6,
     "metadata": {},
     "output_type": "execute_result"
    }
   ],
   "source": [
    "instructor_name = \"YEO KENG LEONG\"\n",
    "\n",
    "instructor_course_data = analytics.filter_by_course_code_and_instructor(course_code, instructor_name)\n",
    "\n",
    "print(f\"Instructor Course Data Shape: {instructor_course_data.shape}\")\n",
    "instructor_course_data.head()"
   ]
  },
  {
   "cell_type": "markdown",
   "metadata": {},
   "source": [
    "### Explore Bid Price for the specified instructor for the specified course"
   ]
  },
  {
   "cell_type": "code",
   "execution_count": 7,
   "metadata": {},
   "outputs": [
    {
     "name": "stdout",
     "output_type": "stream",
     "text": [
      "The min, max, median and mean values for YEO KENG LEONG's COR-STAT1202 median bid prices are (10.0, 63.29, 30.1, 33.02) respectively.\n"
     ]
    }
   ],
   "source": [
    "# min_course_median_value = instructor_course_data[\"Median Bid\"].min()\n",
    "# max_course_median_value = instructor_course_data[\"Median Bid\"].max()\n",
    "# median_course_median_value = round(instructor_course_data[\"Median Bid\"].median(), 2)\n",
    "# mean_course_median_value = round(instructor_course_data[\"Median Bid\"].mean(), 2)\n",
    "\n",
    "[min_course_median_value, max_course_median_value, median_course_median_value, mean_course_median_value] = analytics.get_min_max_median_mean_median_bid_values_by_course_code_and_instructor(course_code, instructor_name)\n",
    "print(f\"The min, max, median and mean values for {instructor_name}'s {course_code} median bid prices are {min_course_median_value, max_course_median_value, median_course_median_value, mean_course_median_value} respectively.\")"
   ]
  },
  {
   "cell_type": "markdown",
   "metadata": {},
   "source": [
    "## Filter dataframe by Academic Year and/or Term"
   ]
  },
  {
   "cell_type": "code",
   "execution_count": 8,
   "metadata": {},
   "outputs": [
    {
     "name": "stdout",
     "output_type": "stream",
     "text": [
      "YEO KENG LEONG taught 6 classes for COR-STAT1202 in 2022-23 Term 2 \n"
     ]
    },
    {
     "data": {
      "text/html": [
       "<div>\n",
       "<style scoped>\n",
       "    .dataframe tbody tr th:only-of-type {\n",
       "        vertical-align: middle;\n",
       "    }\n",
       "\n",
       "    .dataframe tbody tr th {\n",
       "        vertical-align: top;\n",
       "    }\n",
       "\n",
       "    .dataframe thead th {\n",
       "        text-align: right;\n",
       "    }\n",
       "</style>\n",
       "<table border=\"1\" class=\"dataframe\">\n",
       "  <thead>\n",
       "    <tr style=\"text-align: right;\">\n",
       "      <th></th>\n",
       "      <th>Term</th>\n",
       "      <th>Session</th>\n",
       "      <th>Bidding Window</th>\n",
       "      <th>Course Code</th>\n",
       "      <th>Description</th>\n",
       "      <th>Section</th>\n",
       "      <th>Vacancy</th>\n",
       "      <th>Opening Vacancy</th>\n",
       "      <th>Before Process Vacancy</th>\n",
       "      <th>After Process Vacancy</th>\n",
       "      <th>Enrolled Students</th>\n",
       "      <th>Median Bid</th>\n",
       "      <th>Min Bid</th>\n",
       "      <th>Instructor</th>\n",
       "      <th>School/Department</th>\n",
       "      <th>round_successful_bids</th>\n",
       "    </tr>\n",
       "  </thead>\n",
       "  <tbody>\n",
       "    <tr>\n",
       "      <th>18</th>\n",
       "      <td>2022-23 Term 2</td>\n",
       "      <td>Regular Academic Session</td>\n",
       "      <td>Round 1 Window 1</td>\n",
       "      <td>COR-STAT1202</td>\n",
       "      <td>Introductory Statistics</td>\n",
       "      <td>G16</td>\n",
       "      <td>45.0</td>\n",
       "      <td>38.0</td>\n",
       "      <td>38.0</td>\n",
       "      <td>6.0</td>\n",
       "      <td>32.0</td>\n",
       "      <td>30.10</td>\n",
       "      <td>10.00</td>\n",
       "      <td>YEO KENG LEONG</td>\n",
       "      <td>SOE</td>\n",
       "      <td>32.0</td>\n",
       "    </tr>\n",
       "    <tr>\n",
       "      <th>26</th>\n",
       "      <td>2022-23 Term 2</td>\n",
       "      <td>Regular Academic Session</td>\n",
       "      <td>Round 1 Window 2</td>\n",
       "      <td>COR-STAT1202</td>\n",
       "      <td>Introductory Statistics</td>\n",
       "      <td>G16</td>\n",
       "      <td>45.0</td>\n",
       "      <td>40.0</td>\n",
       "      <td>8.0</td>\n",
       "      <td>0.0</td>\n",
       "      <td>40.0</td>\n",
       "      <td>43.51</td>\n",
       "      <td>41.88</td>\n",
       "      <td>YEO KENG LEONG</td>\n",
       "      <td>SOE</td>\n",
       "      <td>8.0</td>\n",
       "    </tr>\n",
       "    <tr>\n",
       "      <th>41</th>\n",
       "      <td>2022-23 Term 2</td>\n",
       "      <td>Regular Academic Session</td>\n",
       "      <td>Round 1A Window 1</td>\n",
       "      <td>COR-STAT1202</td>\n",
       "      <td>Introductory Statistics</td>\n",
       "      <td>G16</td>\n",
       "      <td>45.0</td>\n",
       "      <td>42.0</td>\n",
       "      <td>2.0</td>\n",
       "      <td>0.0</td>\n",
       "      <td>42.0</td>\n",
       "      <td>52.22</td>\n",
       "      <td>47.89</td>\n",
       "      <td>YEO KENG LEONG</td>\n",
       "      <td>SOE</td>\n",
       "      <td>2.0</td>\n",
       "    </tr>\n",
       "    <tr>\n",
       "      <th>49</th>\n",
       "      <td>2022-23 Term 2</td>\n",
       "      <td>Regular Academic Session</td>\n",
       "      <td>Round 1A Window 2</td>\n",
       "      <td>COR-STAT1202</td>\n",
       "      <td>Introductory Statistics</td>\n",
       "      <td>G16</td>\n",
       "      <td>45.0</td>\n",
       "      <td>43.0</td>\n",
       "      <td>1.0</td>\n",
       "      <td>0.0</td>\n",
       "      <td>43.0</td>\n",
       "      <td>51.22</td>\n",
       "      <td>51.22</td>\n",
       "      <td>YEO KENG LEONG</td>\n",
       "      <td>SOE</td>\n",
       "      <td>1.0</td>\n",
       "    </tr>\n",
       "    <tr>\n",
       "      <th>52</th>\n",
       "      <td>2022-23 Term 2</td>\n",
       "      <td>Regular Academic Session</td>\n",
       "      <td>Round 1B Window 1</td>\n",
       "      <td>COR-STAT1202</td>\n",
       "      <td>Introductory Statistics</td>\n",
       "      <td>G16</td>\n",
       "      <td>45.0</td>\n",
       "      <td>45.0</td>\n",
       "      <td>2.0</td>\n",
       "      <td>0.0</td>\n",
       "      <td>45.0</td>\n",
       "      <td>52.16</td>\n",
       "      <td>49.31</td>\n",
       "      <td>YEO KENG LEONG</td>\n",
       "      <td>SOE</td>\n",
       "      <td>2.0</td>\n",
       "    </tr>\n",
       "  </tbody>\n",
       "</table>\n",
       "</div>"
      ],
      "text/plain": [
       "              Term                   Session     Bidding Window   Course Code  \\\n",
       "18  2022-23 Term 2  Regular Academic Session   Round 1 Window 1  COR-STAT1202   \n",
       "26  2022-23 Term 2  Regular Academic Session   Round 1 Window 2  COR-STAT1202   \n",
       "41  2022-23 Term 2  Regular Academic Session  Round 1A Window 1  COR-STAT1202   \n",
       "49  2022-23 Term 2  Regular Academic Session  Round 1A Window 2  COR-STAT1202   \n",
       "52  2022-23 Term 2  Regular Academic Session  Round 1B Window 1  COR-STAT1202   \n",
       "\n",
       "                Description Section  Vacancy  Opening Vacancy  \\\n",
       "18  Introductory Statistics     G16     45.0             38.0   \n",
       "26  Introductory Statistics     G16     45.0             40.0   \n",
       "41  Introductory Statistics     G16     45.0             42.0   \n",
       "49  Introductory Statistics     G16     45.0             43.0   \n",
       "52  Introductory Statistics     G16     45.0             45.0   \n",
       "\n",
       "    Before Process Vacancy  After Process Vacancy  Enrolled Students  \\\n",
       "18                    38.0                    6.0               32.0   \n",
       "26                     8.0                    0.0               40.0   \n",
       "41                     2.0                    0.0               42.0   \n",
       "49                     1.0                    0.0               43.0   \n",
       "52                     2.0                    0.0               45.0   \n",
       "\n",
       "    Median Bid  Min Bid      Instructor School/Department  \\\n",
       "18       30.10    10.00  YEO KENG LEONG               SOE   \n",
       "26       43.51    41.88  YEO KENG LEONG               SOE   \n",
       "41       52.22    47.89  YEO KENG LEONG               SOE   \n",
       "49       51.22    51.22  YEO KENG LEONG               SOE   \n",
       "52       52.16    49.31  YEO KENG LEONG               SOE   \n",
       "\n",
       "    round_successful_bids  \n",
       "18                   32.0  \n",
       "26                    8.0  \n",
       "41                    2.0  \n",
       "49                    1.0  \n",
       "52                    2.0  "
      ]
     },
     "execution_count": 8,
     "metadata": {},
     "output_type": "execute_result"
    }
   ],
   "source": [
    "AY = \"2022-23\"\n",
    "# Filter by Term (Term 1 or Term 2)?\n",
    "term = \"Term 2\"\n",
    "if term:\n",
    "    AY += f\" {term}\"\n",
    "    \n",
    "instructor_course_data = instructor_course_data.sort_values(by=\"Bidding Window\", ignore_index=True)\n",
    "instructor_course_data = instructor_course_data[instructor_course_data[\"Term\"].str.contains(AY, case=False)]\n",
    "print(f\"{instructor_name} taught {len(instructor_course_data['Term'].to_list())} classes for {course_code} in {AY} \")\n",
    "instructor_course_data.head()"
   ]
  },
  {
   "cell_type": "markdown",
   "metadata": {},
   "source": [
    "## Bid Price Visualisation for specified prof, course, AY and/or Term:"
   ]
  },
  {
   "cell_type": "code",
   "execution_count": 9,
   "metadata": {},
   "outputs": [
    {
     "data": {
      "image/png": "[encoded data removed]",
      "text/plain": [
       "<Figure size 1400x1000 with 1 Axes>"
      ]
     },
     "metadata": {},
     "output_type": "display_data"
    }
   ],
   "source": [
    "median_bid_by_window = instructor_course_data.groupby('Bidding Window')['Median Bid'].median().reset_index()\n",
    "\n",
    "plt.figure(figsize=(14, 10))\n",
    "\n",
    "# Plot the median bid values by window as a line\n",
    "plt.plot(\n",
    "    median_bid_by_window[\"Bidding Window\"],\n",
    "    median_bid_by_window[\"Median Bid\"],\n",
    "    marker=\"o\",\n",
    "    label='Median Bid of all Section Bids per Window'\n",
    ")\n",
    "\n",
    "# Plot all individual bid values as points\n",
    "plt.scatter(\n",
    "    instructor_course_data[\"Bidding Window\"],\n",
    "    instructor_course_data[\"Median Bid\"],\n",
    "    color=\"red\",\n",
    "    label=\"Section Median Bid Values\"\n",
    ")\n",
    "\n",
    "plt.title(f\"Median Bid Price vs. Bidding Window for {instructor_name}'s {course_code} course in AY {AY}\")\n",
    "plt.xlabel(\"Bidding Window\")\n",
    "plt.ylabel(\"Median Bid Price\")\n",
    "plt.xticks(rotation=70)\n",
    "plt.grid(True)\n",
    "plt.tight_layout()\n",
    "\n",
    "max_y_values = {}\n",
    "\n",
    "# Annotate data points with their \"Section\" value and adjust y-coordinate\n",
    "annotations = []\n",
    "for x, y, sem, section, slots_avail, round_successful_bids in zip(instructor_course_data[\"Bidding Window\"], instructor_course_data[\"Median Bid\"],instructor_course_data[\"Term\"], instructor_course_data[\"Section\"], instructor_course_data[\"Before Process Vacancy\"], instructor_course_data[\"round_successful_bids\"]):\n",
    "    max_y = max_y_values.get(x, 0) \n",
    "    y_offset = max_y + 2\n",
    "    max_y_values[x] = y_offset\n",
    "    displayed_text = f\"{section}, Median Bid:{y:.2f}, Slots avail: {int(slots_avail)}\\nSuccessful bids: {int(round_successful_bids)}\"\n",
    "    if not term:\n",
    "        displayed_text = f\"Term {sem[-1]} {displayed_text}\"\n",
    "        print(displayed_text)\n",
    "    annotation = plt.annotate(displayed_text, (x, y),\n",
    "                            textcoords=\"offset points\",\n",
    "                            xytext=(0, y_offset),\n",
    "                            ha=\"center\", fontsize=6,\n",
    "                            arrowprops=dict(arrowstyle=\"-\", lw=0.5, color=\"black\"))\n",
    "    annotations.append(annotation)\n",
    "\n",
    "# Use the adjust_text function to adjust the position of overlapping annotations\n",
    "adjust_text(annotations, autoalign=\"xy\", only_move={\"points\": \"xy\"})\n",
    "\n",
    "plt.legend()\n",
    "plt.show()"
   ]
  },
  {
   "cell_type": "markdown",
   "metadata": {},
   "source": [
    "## Visualise each Instructor's min, mean and median bids with a Bar chart"
   ]
  },
  {
   "cell_type": "code",
   "execution_count": 10,
   "metadata": {},
   "outputs": [
    {
     "ename": "NameError",
     "evalue": "name 'course_data' is not defined",
     "output_type": "error",
     "traceback": [
      "\u001b[0;31m---------------------------------------------------------------------------\u001b[0m",
      "\u001b[0;31mNameError\u001b[0m                                 Traceback (most recent call last)",
      "Cell \u001b[0;32mIn[10], line 5\u001b[0m\n\u001b[1;32m      2\u001b[0m data \u001b[38;5;241m=\u001b[39m []\n\u001b[1;32m      4\u001b[0m \u001b[38;5;28;01mfor\u001b[39;00m instructor_name \u001b[38;5;129;01min\u001b[39;00m unique_instructors:\n\u001b[0;32m----> 5\u001b[0m     instructor_data \u001b[38;5;241m=\u001b[39m \u001b[43mcourse_data\u001b[49m[course_data[\u001b[38;5;124m\"\u001b[39m\u001b[38;5;124mInstructor\u001b[39m\u001b[38;5;124m\"\u001b[39m] \u001b[38;5;241m==\u001b[39m instructor_name\u001b[38;5;241m.\u001b[39mstrip()]\n\u001b[1;32m      6\u001b[0m     min_value \u001b[38;5;241m=\u001b[39m instructor_data[\u001b[38;5;124m\"\u001b[39m\u001b[38;5;124mMedian Bid\u001b[39m\u001b[38;5;124m\"\u001b[39m]\u001b[38;5;241m.\u001b[39mmin()\n\u001b[1;32m      7\u001b[0m     max_value \u001b[38;5;241m=\u001b[39m instructor_data[\u001b[38;5;124m\"\u001b[39m\u001b[38;5;124mMedian Bid\u001b[39m\u001b[38;5;124m\"\u001b[39m]\u001b[38;5;241m.\u001b[39mmax()\n",
      "\u001b[0;31mNameError\u001b[0m: name 'course_data' is not defined"
     ]
    }
   ],
   "source": [
    "# we want to create our own dataframe with the min, max mean and median median bid values\n",
    "data = []\n",
    "\n",
    "for instructor_name in unique_instructors:\n",
    "    instructor_data = course_data[course_data[\"Instructor\"] == instructor_name.strip()]\n",
    "    min_value = instructor_data[\"Median Bid\"].min()\n",
    "    max_value = instructor_data[\"Median Bid\"].max()\n",
    "    median_value = round(instructor_data[\"Median Bid\"].median(), 2)\n",
    "    mean_value = round(instructor_data[\"Median Bid\"].mean(), 2)\n",
    "    data.append([instructor_name, min_value, max_value, mean_value, median_value])\n",
    "\n",
    "# Create a DataFrame from the collected results\n",
    "data_df = pd.DataFrame(data, columns=[\"Instructor\", \"Min Median Bid\", \"Max Median Bid\", \"Median Median Bid\", \"Mean Median Bid\"])\n",
    "print(data_df)\n",
    "data_df.head()\n"
   ]
  },
  {
   "cell_type": "code",
   "execution_count": null,
   "metadata": {},
   "outputs": [
    {
     "ename": "",
     "evalue": "",
     "output_type": "error",
     "traceback": [
      "\u001b[1;31mThe kernel failed to start due to an error with the 'pyzmq' module. Consider re-installing this module.\n",
      "\u001b[1;31mClick <a href='https://aka.ms/kernelFailuresPyzmq'>here</a> for more info."
     ]
    }
   ],
   "source": [
    "# choose bars you want to show:\n",
    "show_min_bar = True\n",
    "show_max_bar = True\n",
    "show_median_bar = True\n",
    "show_mean_bar = True\n",
    "\n",
    "# Create an array of x-coords for each instructor\n",
    "x = np.arange(len(data_df[\"Instructor\"]))\n",
    "\n",
    "group_width = 0.2 \n",
    "\n",
    "# Create a vertical bar chart with no spaces between bars within an instructor's group\n",
    "plt.figure(figsize=(14, 10))\n",
    "\n",
    "bar_chart_annotations = []\n",
    "def add_values_on_bars(bars):\n",
    "    global bar_chart_annotations\n",
    "    for bar in bars:\n",
    "        height = bar.get_height()\n",
    "        annotation = plt.annotate(f'{height:.2f}', xy=(bar.get_x() + bar.get_width() / 2, height),\n",
    "                                    xytext=(0, 6), \n",
    "                                    textcoords=\"offset points\", \n",
    "                                    ha=\"center\", \n",
    "                                    va=\"bottom\", \n",
    "                                    fontsize=6)\n",
    "        bar_chart_annotations.append(annotation)\n",
    "\n",
    "if show_min_bar:\n",
    "    min_bars = plt.bar(x - 1.5*group_width, data_df[\"Min Median Bid\"], width=group_width, label=\"Min Median Bid\", alpha=0.7, color=\"green\")\n",
    "    add_values_on_bars(min_bars)\n",
    "if show_max_bar:\n",
    "    max_bars = plt.bar(x - 0.5*group_width, data_df[\"Max Median Bid\"], width=group_width, label=\"Max Median Bid\", alpha=0.7, color=\"grey\")\n",
    "    add_values_on_bars(max_bars)\n",
    "if show_median_bar:\n",
    "    median_bars = plt.bar(x + 0.5*group_width, data_df[\"Median Median Bid\"], width=group_width, label=\"Median Median Bid\", alpha=0.7, color=\"red\")\n",
    "    add_values_on_bars(median_bars)\n",
    "if show_mean_bar:\n",
    "    mean_bars = plt.bar(x + 1.5 * group_width, data_df[\"Mean Median Bid\"], width=group_width, label=\"Mean Median Bid\", alpha=0.7, color=\"blue\")\n",
    "    add_values_on_bars(mean_bars)\n",
    "\n",
    "\n",
    "adjust_text(bar_chart_annotations, autoalign=\"y\", only_move={\"points\": \"y\"})\n",
    "\n",
    "plt.xticks(x, data_df[\"Instructor\"], rotation=60)\n",
    "plt.xlabel(\"Instructor\")\n",
    "plt.ylabel(\"Bid Price\")\n",
    "plt.title(f\"All-time Min, Max, Median, Mean values of the Median bid price for each Instructor teaching {course_code}\")\n",
    "plt.legend()\n",
    "\n",
    "plt.tight_layout()\n",
    "plt.show()"
   ]
  },
  {
   "cell_type": "markdown",
   "metadata": {},
   "source": [
    "## Lets visualise the year over year bid prices for a specified BIDDING WINDOW AND INSTRUCTOR"
   ]
  },
  {
   "cell_type": "code",
   "execution_count": null,
   "metadata": {},
   "outputs": [
    {
     "ename": "",
     "evalue": "",
     "output_type": "error",
     "traceback": [
      "\u001b[1;31mThe kernel failed to start due to an error with the 'pyzmq' module. Consider re-installing this module.\n",
      "\u001b[1;31mClick <a href='https://aka.ms/kernelFailuresPyzmq'>here</a> for more info."
     ]
    }
   ],
   "source": [
    "specified_bidding_window = \"Round 1 Window 1\"\n",
    "\n",
    "# re-initialise instructor_course_data dataframe as we do not want to use the instructor_course_data df above which has been filtered to the specified year\n",
    "# instructor_name = \"GILBERT TAN YIP WEI\"\n",
    "print(instructor_name_dummy)\n",
    "print(f\"Dataframe containing the Mean median bid price across the terms for {instructor_name_dummy}:\")\n",
    "instructor_course_data = course_data[course_data[\"Instructor\"] == instructor_name_dummy]\n",
    "window_course_data = instructor_course_data[instructor_course_data[\"Bidding Window\"] == specified_bidding_window]\n",
    "window_course_data = window_course_data.sort_values(by=\"Term\", ascending=True)\n",
    "\n",
    "# Group filtered data by year and calculate the mean Median Bid for each year\n",
    "yearly_instructor_course_data = window_course_data.groupby(\"Term\")[\"Median Bid\"].mean().reset_index()\n",
    "yearly_instructor_course_data = yearly_instructor_course_data.sort_values(by=\"Term\", ascending=True)\n",
    "\n",
    "# renamed yearly_data df column headers to aid better understanding\n",
    "yearly_instructor_course_data.rename(columns={\"Median Bid\": \"Mean of Median Bids\"}, inplace=True)\n",
    "yearly_instructor_course_data.head()\n"
   ]
  },
  {
   "cell_type": "markdown",
   "metadata": {},
   "source": [
    "### Lets use a Linear Regression model to plot a best fit line and make bid price predictions for future Terms"
   ]
  },
  {
   "cell_type": "code",
   "execution_count": null,
   "metadata": {},
   "outputs": [
    {
     "ename": "",
     "evalue": "",
     "output_type": "error",
     "traceback": [
      "\u001b[1;31mThe kernel failed to start due to an error with the 'pyzmq' module. Consider re-installing this module.\n",
      "\u001b[1;31mClick <a href='https://aka.ms/kernelFailuresPyzmq'>here</a> for more info."
     ]
    }
   ],
   "source": [
    "# We will perform label encoding for the Terms\n",
    "label_encoder = LabelEncoder()\n",
    "yearly_instructor_course_data[\"Term\"] = label_encoder.fit_transform(yearly_instructor_course_data[\"Term\"])\n",
    "\n",
    "X = yearly_instructor_course_data[[\"Term\"]]\n",
    "Y = yearly_instructor_course_data[\"Mean of Median Bids\"]\n",
    "\n",
    "reg_model = LinearRegression()\n",
    "reg_model.fit(X, Y)\n",
    "\n",
    "yearly_instructor_course_data.head()"
   ]
  },
  {
   "cell_type": "code",
   "execution_count": null,
   "metadata": {},
   "outputs": [
    {
     "ename": "",
     "evalue": "",
     "output_type": "error",
     "traceback": [
      "\u001b[1;31mThe kernel failed to start due to an error with the 'pyzmq' module. Consider re-installing this module.\n",
      "\u001b[1;31mClick <a href='https://aka.ms/kernelFailuresPyzmq'>here</a> for more info."
     ]
    }
   ],
   "source": [
    "# Find the latest term and calculate the upcoming term as the next integer value\n",
    "latest_term = yearly_instructor_course_data[\"Term\"].max()\n",
    "upcoming_term = latest_term + 1\n",
    "\n",
    "predicted_bid_upcoming_term = reg_model.predict([[upcoming_term]])\n",
    "\n",
    "print(f\"Predicted Median Bid for the upcoming Term: {predicted_bid_upcoming_term[0]:.2f}\")"
   ]
  },
  {
   "cell_type": "code",
   "execution_count": null,
   "metadata": {},
   "outputs": [
    {
     "ename": "",
     "evalue": "",
     "output_type": "error",
     "traceback": [
      "\u001b[1;31mThe kernel failed to start due to an error with the 'pyzmq' module. Consider re-installing this module.\n",
      "\u001b[1;31mClick <a href='https://aka.ms/kernelFailuresPyzmq'>here</a> for more info."
     ]
    }
   ],
   "source": [
    "plt.figure(figsize=(12, 8))\n",
    "\n",
    "plt.plot(\n",
    "    yearly_instructor_course_data[\"Term\"],\n",
    "    yearly_instructor_course_data[\"Mean of Median Bids\"],\n",
    "    marker=\"x\",\n",
    "    label=\"Mean of Median Bids\"\n",
    ")\n",
    "\n",
    "plt.scatter(\n",
    "    window_course_data[\"Term\"],\n",
    "    window_course_data[\"Median Bid\"],\n",
    "    color=\"red\",\n",
    "    label=\"Individual Section Median Bid Values\"\n",
    ")\n",
    "\n",
    "# Lets use out linear reg model to plot a best fit line\n",
    "plt.plot(X, reg_model.predict(X), color=\"red\", label=\"Best-Fit Line for section median bids\")\n",
    "\n",
    "plt.scatter(\n",
    "    upcoming_term,\n",
    "    predicted_bid_upcoming_term,\n",
    "    color='green',\n",
    "    marker='o',\n",
    "    s=100,\n",
    "    label=f'Predicted Bid for the next term'\n",
    ")\n",
    "\n",
    "# Annotate the predicted point with its value\n",
    "plt.annotate(\n",
    "    f\"Upcoming Term\\nPredicted Bid: {predicted_bid_upcoming_term[0]:.2f}\",\n",
    "    (upcoming_term, predicted_bid_upcoming_term),\n",
    "    textcoords=\"offset points\",\n",
    "    xytext=(-9.5,10),  # Adjust the position of the text above the point\n",
    "    ha=\"center\",\n",
    "    fontsize=9,\n",
    ")\n",
    "\n",
    "plt.title(f\"Median Bid Price vs. Bidding Window for {instructor_name_dummy}'s {course_code} course in {specified_bidding_window}\")\n",
    "plt.xlabel(\"Term\")\n",
    "plt.ylabel(\"Median Bid Price\")\n",
    "plt.xticks(rotation=65)\n",
    "plt.grid(True)\n",
    "plt.tight_layout()\n",
    "\n",
    "plt.legend()\n",
    "plt.show()"
   ]
  },
  {
   "cell_type": "markdown",
   "metadata": {},
   "source": [
    "### Lets determine the year over year increase of median bid price"
   ]
  },
  {
   "cell_type": "code",
   "execution_count": null,
   "metadata": {},
   "outputs": [
    {
     "ename": "",
     "evalue": "",
     "output_type": "error",
     "traceback": [
      "\u001b[1;31mThe kernel failed to start due to an error with the 'pyzmq' module. Consider re-installing this module.\n",
      "\u001b[1;31mClick <a href='https://aka.ms/kernelFailuresPyzmq'>here</a> for more info."
     ]
    }
   ],
   "source": [
    "# We can take the average of the sum of the Term over Term changes in Bid data to estimate the Term over Term increase of bid price\n",
    "yearly_instructor_course_data[\"Term over Term Increase\"] = yearly_instructor_course_data[\"Mean of Median Bids\"].diff()\n",
    "average_tot_increase = yearly_instructor_course_data[\"Term over Term Increase\"].mean()\n",
    "print(f\"Estimated TOT rate of change (inflation rate) of bid price by average of the sum of the TOT changes in Bid data: {average_tot_increase:.2f} per Term\")\n",
    "yearly_instructor_course_data.head()\n",
    "\n",
    "# Also, we can find gradient of the best fit line to estimate the Term over Term increase of bid price\n",
    "gradient = reg_model.coef_[0]\n",
    "print(f\"Estimated TOT rate of change (inflation rate) of bid price by calculating gradient of the best-fit line: {gradient:.2f} per Term\")"
   ]
  },
  {
   "cell_type": "markdown",
   "metadata": {},
   "source": [
    "### Lets calculate the predicted bids for all profs and their estimated inflation rate for the specified window"
   ]
  },
  {
   "cell_type": "code",
   "execution_count": null,
   "metadata": {},
   "outputs": [
    {
     "ename": "",
     "evalue": "",
     "output_type": "error",
     "traceback": [
      "\u001b[1;31mThe kernel failed to start due to an error with the 'pyzmq' module. Consider re-installing this module.\n",
      "\u001b[1;31mClick <a href='https://aka.ms/kernelFailuresPyzmq'>here</a> for more info."
     ]
    }
   ],
   "source": [
    "plt.figure(figsize=(12, 8))\n",
    "label_encoder = LabelEncoder()\n",
    "\n",
    "# We will use a hashmap like below to encode instead of a label encoder as not al instructors taught all terms\n",
    "# This will need to be updated every data update\n",
    "term_mapping = {\n",
    "    '2019-20 Term 1': 0,\n",
    "    '2019-20 Term 2': 1,\n",
    "    '2020-21 Term 1': 2,\n",
    "    '2020-21 Term 2': 3,\n",
    "    '2021-22 Term 1': 4,\n",
    "    '2021-22 Term 2': 5,\n",
    "    '2022-23 Term 1': 6,\n",
    "    '2022-23 Term 2': 7,\n",
    "    '2023-24 Term 1': 8,\n",
    "    '2023-24 Term 2': 9\n",
    "}\n",
    "\n",
    "warnings.filterwarnings(\"ignore\", category=UserWarning)\n",
    "\n",
    "for instructor_name in unique_instructors:\n",
    "    instructor_course_data = course_data[course_data[\"Instructor\"] == instructor_name.strip()]\n",
    "    window_course_data = instructor_course_data[instructor_course_data[\"Bidding Window\"] == specified_bidding_window]\n",
    "    window_course_data = window_course_data.sort_values(by=\"Term\", ascending=True)\n",
    "\n",
    "    yearly_instructor_course_data = window_course_data.groupby(\"Term\")[\"Median Bid\"].mean().reset_index()\n",
    "    yearly_instructor_course_data = yearly_instructor_course_data.sort_values(by=\"Term\", ascending=True)\n",
    "\n",
    "    yearly_instructor_course_data.rename(columns={\"Median Bid\": \"Mean of Median Bids\"}, inplace=True)\n",
    "\n",
    "    \n",
    "    # yearly_instructor_course_data[\"Term\"] = label_encoder.fit_transform(yearly_instructor_course_data[\"Term\"])\n",
    "\n",
    "    # To encode Term, apply the mapping to your DataFrame\n",
    "    yearly_instructor_course_data['Term'] = yearly_instructor_course_data[\"Term\"].map(term_mapping)\n",
    "\n",
    "    X = yearly_instructor_course_data[[\"Term\"]]\n",
    "    Y = yearly_instructor_course_data[\"Mean of Median Bids\"]\n",
    "\n",
    "    if not X.empty and not Y.empty:\n",
    "        reg_model = LinearRegression()\n",
    "        reg_model.fit(X, Y)\n",
    "\n",
    "        latest_term = yearly_instructor_course_data[\"Term\"].max()\n",
    "        upcoming_term = latest_term + 1\n",
    "\n",
    "        predicted_bid_upcoming_term = reg_model.predict([[upcoming_term]])\n",
    "\n",
    "        print(f\"Predicted Median Bid for {instructor_name} in the upcoming Term: {predicted_bid_upcoming_term[0]:.2f}\")\n",
    "\n",
    "        # plt.plot(\n",
    "        #     yearly_instructor_course_data[\"Term\"],\n",
    "        #     yearly_instructor_course_data[\"Mean of Median Bids\"],\n",
    "        #     marker=\"x\",\n",
    "        #     label=\"Mean of Median Bids\"\n",
    "        # )\n",
    "\n",
    "        plt.scatter(\n",
    "            window_course_data[\"Term\"],\n",
    "            window_course_data[\"Median Bid\"],\n",
    "            label=f\"_Individual Section Median Bid Values({instructor_name})\"\n",
    "            # underscore such that teh predicted points do not show up in legend, preventing overcrowding\n",
    "        )\n",
    "\n",
    "\n",
    "        plt.plot(X, reg_model.predict(X), label=f\"Best-Fit Line for section median bids ({instructor_name.strip()})\")\n",
    "\n",
    "        plt.scatter(\n",
    "            upcoming_term,\n",
    "            predicted_bid_upcoming_term,\n",
    "            color=\"green\",\n",
    "            marker=\"o\",\n",
    "            s=100,\n",
    "            label=f\"_Predicted Bid for the next term\"\n",
    "        )\n",
    "\n",
    "        plt.annotate(\n",
    "            f\"{instructor_name.strip()}\\nPredicted Bid: {predicted_bid_upcoming_term[0]:.2f}\",\n",
    "            (upcoming_term, predicted_bid_upcoming_term),\n",
    "            textcoords=\"offset points\",\n",
    "            xytext=(-9.5,10),\n",
    "            ha=\"center\",\n",
    "            fontsize=7,\n",
    "        )\n",
    "\n",
    "        yearly_instructor_course_data[\"Term over Term Increase\"] = yearly_instructor_course_data[\"Mean of Median Bids\"].diff()\n",
    "        average_tot_increase = yearly_instructor_course_data[\"Term over Term Increase\"].mean()\n",
    "        print(f\"Estimated TOT rate of change (inflation rate) of bid price for {instructor_name} by average of the sum of the TOT changes in Bid data: {average_tot_increase:.2f} per Term\")\n",
    "        yearly_instructor_course_data.head()\n",
    "\n",
    "        gradient = reg_model.coef_[0]\n",
    "        print(f\"Estimated TOT rate of change (inflation rate) of bid price for {instructor_name} by calculating gradient of the best-fit line: {gradient:.2f} per Term\\n\")\n",
    "    else:\n",
    "        print(f\"No data for {instructor_name}\\n\")\n",
    "    \n",
    "plt.legend()\n",
    "\n",
    "plt.title(f\"Median Bid Price vs. Bidding Window for all Instructors' {course_code} course in {specified_bidding_window}\")\n",
    "plt.xlabel(\"Term\")\n",
    "plt.ylabel(\"Median Bid Price\")\n",
    "plt.xticks(rotation=65)\n",
    "plt.grid(True)\n",
    "plt.tight_layout()\n",
    "\n",
    "plt.show()"
   ]
  }
 ],
 "metadata": {
  "kernelspec": {
   "display_name": "venv",
   "language": "python",
   "name": "python3"
  },
  "language_info": {
   "codemirror_mode": {
    "name": "ipython",
    "version": 3
   },
   "file_extension": ".py",
   "mimetype": "text/x-python",
   "name": "python",
   "nbconvert_exporter": "python",
   "pygments_lexer": "ipython3",
   "version": "3.11.3"
  },
  "orig_nbformat": 4
 },
 "nbformat": 4,
 "nbformat_minor": 2
}
